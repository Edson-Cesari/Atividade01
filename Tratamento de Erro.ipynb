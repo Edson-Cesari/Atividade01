{
  "nbformat": 4,
  "nbformat_minor": 0,
  "metadata": {
    "colab": {
      "provenance": [],
      "collapsed_sections": [],
      "authorship_tag": "ABX9TyPX2ZNu3liJPlsGN2wH2Up7",
      "include_colab_link": true
    },
    "kernelspec": {
      "name": "python3",
      "display_name": "Python 3"
    },
    "language_info": {
      "name": "python"
    }
  },
  "cells": [
    {
      "cell_type": "markdown",
      "metadata": {
        "id": "view-in-github",
        "colab_type": "text"
      },
      "source": [
        "<a href=\"https://colab.research.google.com/github/Edson-Cesari/Atividade01/blob/main/Tratamento%20de%20Erro.ipynb\" target=\"_parent\"><img src=\"https://colab.research.google.com/assets/colab-badge.svg\" alt=\"Open In Colab\"/></a>"
      ]
    },
    {
      "cell_type": "code",
      "execution_count": 1,
      "metadata": {
        "colab": {
          "base_uri": "https://localhost:8080/"
        },
        "id": "wDuwC-QVqMzq",
        "outputId": "cc1fe9c3-b35b-483f-8903-204d0c4fd88b"
      },
      "outputs": [
        {
          "output_type": "stream",
          "name": "stdout",
          "text": [
            "Digite o nome completo\n",
            "Fulano de Tal\n",
            "Digite o ano de nacimento, AAAA\n",
            "1995\n",
            "Nome:  Fulano de Tal\n",
            "A idade e  27\n"
          ]
        }
      ],
      "source": [
        "\n",
        "infoCorreta = False\n",
        "while (infoCorreta == False):\n",
        "\n",
        "  print(\"Digite o nome completo\")\n",
        "\n",
        "  try:\n",
        "    nome = str(input())\n",
        "    print(\"Digite o ano de nacimento, AAAA\")\n",
        "    ano = int(input())\n",
        "    if ano >= 1922 and ano<=2021:\n",
        "      idade = 2022-ano\n",
        "      print(\"Nome: \",nome)\n",
        "      print(\"A idade e \",idade)\n",
        "      infoCorreta = True\n",
        "    else:\n",
        "      print(\"Informação invalida,ano entre 1922 e 2022, Preencha novamente todas as informações.\")\n",
        "  except:\n",
        "    print(\"Erro ao digitar as informacoes, por favor digite novamente\")\n"
      ]
    }
  ]
}