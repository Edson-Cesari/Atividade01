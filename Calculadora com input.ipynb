{
  "nbformat": 4,
  "nbformat_minor": 0,
  "metadata": {
    "colab": {
      "provenance": [],
      "collapsed_sections": [],
      "authorship_tag": "ABX9TyNlE5lJpg+wnLv+8fhmYTNC",
      "include_colab_link": true
    },
    "kernelspec": {
      "name": "python3",
      "display_name": "Python 3"
    },
    "language_info": {
      "name": "python"
    }
  },
  "cells": [
    {
      "cell_type": "markdown",
      "metadata": {
        "id": "view-in-github",
        "colab_type": "text"
      },
      "source": [
        "<a href=\"https://colab.research.google.com/github/Edson-Cesari/Atividade01/blob/main/Calculadora%20com%20input.ipynb\" target=\"_parent\"><img src=\"https://colab.research.google.com/assets/colab-badge.svg\" alt=\"Open In Colab\"/></a>"
      ]
    },
    {
      "cell_type": "code",
      "execution_count": 15,
      "metadata": {
        "colab": {
          "base_uri": "https://localhost:8080/"
        },
        "id": "SPoI2kg1-Gp3",
        "outputId": "78a4eb45-80c0-40e4-f86b-b0164711dc7e"
      },
      "outputs": [
        {
          "output_type": "stream",
          "name": "stdout",
          "text": [
            "Digite um numero\n",
            "10\n",
            "Digite outro numero\n",
            "2\n",
            "Digite a opcao do operador\n",
            "1- Soma\n",
            "2- Subtracao\n",
            "3- Multiplicacao\n",
            "4- Divisao\n",
            "0- Sair\n",
            "5\n",
            "Esta operacao não existe !\n",
            "Digite um numero\n",
            "10\n",
            "Digite outro numero\n",
            "2\n",
            "Digite a opcao do operador\n",
            "1- Soma\n",
            "2- Subtracao\n",
            "3- Multiplicacao\n",
            "4- Divisao\n",
            "0- Sair\n",
            "4\n",
            "Resultado da operacao:  5.0\n",
            "Digite um numero\n",
            "1\n",
            "Digite outro numero\n",
            "2\n",
            "Digite a opcao do operador\n",
            "1- Soma\n",
            "2- Subtracao\n",
            "3- Multiplicacao\n",
            "4- Divisao\n",
            "0- Sair\n",
            "0\n",
            "Saindo da calculadora...\n"
          ]
        }
      ],
      "source": [
        "# 1.Soma\n",
        "# 2.Subtração\n",
        "# 3.Multiplicação\n",
        "# 4.Divisão\n",
        "# 0.Sair\n",
        "\n",
        "def calculadora(num1,num2,operador):\n",
        "  if operador == 1:\n",
        "    return  num1 + num2\n",
        "  \n",
        "  elif operador == 2:\n",
        "    return num1 - num2 \n",
        "\n",
        "  elif operador == 3:\n",
        "    return num1 * num2\n",
        "\n",
        "  elif operador == 4:\n",
        "    return num1 / num2\n",
        "\n",
        "  elif operador == 0:\n",
        "    return 0\n",
        "  \n",
        "\n",
        "operador = 1\n",
        "while operador != 0:\n",
        "\n",
        "  print(\"Digite um numero\")\n",
        "  num1 = float(input())\n",
        "\n",
        "  print(\"Digite outro numero\")\n",
        "  num2 = float(input())\n",
        "\n",
        "  print(\"Digite a opcao do operador\")\n",
        "  print(\"1- Soma\")\n",
        "  print(\"2- Subtracao\")\n",
        "  print(\"3- Multiplicacao\")\n",
        "  print(\"4- Divisao\")\n",
        "  print(\"0- Sair\")\n",
        "\n",
        "  operador = int(input())\n",
        "  \n",
        "  if operador == 0:\n",
        "    print(\"Saindo da calculadora...\")\n",
        "  \n",
        "  elif operador > 4:\n",
        "    print(\"Esta operacao não existe !\")\n",
        "  else:\n",
        "    resultado = calculadora(num1,num2,int(operador))\n",
        "    print(\"Resultado da operacao: \",resultado)\n",
        "  \n",
        "\n",
        "\n",
        "\n",
        "\n",
        "\n",
        "\n",
        "\n",
        "\n",
        "\n"
      ]
    }
  ]
}