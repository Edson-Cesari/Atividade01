{
  "nbformat": 4,
  "nbformat_minor": 0,
  "metadata": {
    "colab": {
      "provenance": [],
      "collapsed_sections": [],
      "authorship_tag": "ABX9TyMHorn1djY9MYyZxACPuCKB",
      "include_colab_link": true
    },
    "kernelspec": {
      "name": "python3",
      "display_name": "Python 3"
    },
    "language_info": {
      "name": "python"
    }
  },
  "cells": [
    {
      "cell_type": "markdown",
      "metadata": {
        "id": "view-in-github",
        "colab_type": "text"
      },
      "source": [
        "<a href=\"https://colab.research.google.com/github/Edson-Cesari/Atividade01/blob/main/funcao%20Calculadora%20.ipynb\" target=\"_parent\"><img src=\"https://colab.research.google.com/assets/colab-badge.svg\" alt=\"Open In Colab\"/></a>"
      ]
    },
    {
      "cell_type": "code",
      "execution_count": 4,
      "metadata": {
        "colab": {
          "base_uri": "https://localhost:8080/"
        },
        "id": "xozM-y8Z0efi",
        "outputId": "53aea2ee-a0b6-4d74-d5c9-72d3afa0b7ba"
      },
      "outputs": [
        {
          "output_type": "stream",
          "name": "stdout",
          "text": [
            "10\n"
          ]
        }
      ],
      "source": [
        "# 1.Soma\n",
        "# 2.Subtração\n",
        "# 3.Multiplicação\n",
        "# 4.Divisão\n",
        "\n",
        "def calculadora(num1,num2,operador):\n",
        "  if operador == 1:\n",
        "    return  num1 + num2\n",
        "  \n",
        "  elif operador == 2:\n",
        "    return num1 - num2 \n",
        "\n",
        "  elif operador == 3:\n",
        "    return num1 * num2\n",
        "\n",
        "  elif operador == 4:\n",
        "    return num1 / num2\n",
        "\n",
        "  else:\n",
        "    return 0\n",
        "\n",
        "operador = 3\n",
        "num1 = 2\n",
        "num2 = 5\n",
        "\n",
        "resultado = calculadora(num1,num2,operador)\n",
        "print(resultado)\n"
      ]
    }
  ]
}