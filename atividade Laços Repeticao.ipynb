{
  "nbformat": 4,
  "nbformat_minor": 0,
  "metadata": {
    "colab": {
      "provenance": [],
      "authorship_tag": "ABX9TyOcC6nCHCN/3qKWxFWp7G1c",
      "include_colab_link": true
    },
    "kernelspec": {
      "name": "python3",
      "display_name": "Python 3"
    },
    "language_info": {
      "name": "python"
    }
  },
  "cells": [
    {
      "cell_type": "markdown",
      "metadata": {
        "id": "view-in-github",
        "colab_type": "text"
      },
      "source": [
        "<a href=\"https://colab.research.google.com/github/Edson-Cesari/Atividade01/blob/main/atividade%20La%C3%A7os%20Repeticao.ipynb\" target=\"_parent\"><img src=\"https://colab.research.google.com/assets/colab-badge.svg\" alt=\"Open In Colab\"/></a>"
      ]
    },
    {
      "cell_type": "code",
      "execution_count": 5,
      "metadata": {
        "colab": {
          "base_uri": "https://localhost:8080/"
        },
        "id": "CK6RbnxTlA5c",
        "outputId": "154f90b7-8e5c-4732-822f-0b25ca19000e"
      },
      "outputs": [
        {
          "output_type": "stream",
          "name": "stdout",
          "text": [
            "iniciando contagem Regressiva...\n",
            "10\n",
            "9\n",
            "8\n",
            "7\n",
            "6\n",
            "5\n",
            "4\n",
            "3\n",
            "2\n",
            "1\n",
            "0\n",
            "BUM !\n"
          ]
        }
      ],
      "source": [
        "import time\n",
        "\n",
        "print(\"iniciando contagem Regressiva...\")\n",
        "for i in range(10,-1,-1):\n",
        "  print(i)\n",
        "  time.sleep(1)\n",
        "\n",
        "print(\"BUM !\")"
      ]
    }
  ]
}